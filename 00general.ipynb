{
  "nbformat": 4,
  "nbformat_minor": 0,
  "metadata": {
    "colab": {
      "provenance": [],
      "authorship_tag": "ABX9TyMG1dUfSzs1NfJnsi46yFgd",
      "include_colab_link": true
    },
    "kernelspec": {
      "name": "python3",
      "display_name": "Python 3"
    },
    "language_info": {
      "name": "python"
    }
  },
  "cells": [
    {
      "cell_type": "markdown",
      "metadata": {
        "id": "view-in-github",
        "colab_type": "text"
      },
      "source": [
        "<a href=\"https://colab.research.google.com/github/ydebessu/handson/blob/main/00general.ipynb\" target=\"_parent\"><img src=\"https://colab.research.google.com/assets/colab-badge.svg\" alt=\"Open In Colab\"/></a>"
      ]
    },
    {
      "cell_type": "code",
      "execution_count": 9,
      "metadata": {
        "id": "mMBUB5O42Ve4"
      },
      "outputs": [],
      "source": [
        "import numpy as np\n",
        "\n",
        "# Generate x values\n",
        "x = 2 * np.random.rand(100,1)\n",
        "y = 3 * x + 4 + np.random.randn(100, 1)\n",
        "\n",
        "#  X has two columns: one of ones (for the intercept) and one of x values.\n",
        "X = np.hstack([np.ones((100, 1)), x])\n",
        "\n",
        "# Calculate X' (transpose of X)\n",
        "X_prime = X.T\n",
        "\n",
        "# Calculate the coefficients (beta) using (X'X)^-1 X'y\n",
        "beta =  np.linalg.inv(X_prime @ X) @ X_prime @ y\n",
        "\n"
      ]
    },
    {
      "cell_type": "markdown",
      "source": [],
      "metadata": {
        "id": "JjjIHq7rXFQd"
      }
    },
    {
      "cell_type": "code",
      "source": [
        "# prompt: print shapes of x, y, X\n",
        "\n",
        "print(f'Shape of x: {x.shape}')\n",
        "print(f'Shape of y: {y.shape}')\n",
        "print(f'Shape of X: {X.shape}')"
      ],
      "metadata": {
        "id": "M51aW9R8XEkU",
        "outputId": "99f71d95-6fff-43fc-a233-98b9e87dccfe",
        "colab": {
          "base_uri": "https://localhost:8080/"
        }
      },
      "execution_count": 11,
      "outputs": [
        {
          "output_type": "stream",
          "name": "stdout",
          "text": [
            "Shape of x: (100, 1)\n",
            "Shape of y: (100, 1)\n",
            "Shape of X: (100, 2)\n"
          ]
        }
      ]
    },
    {
      "cell_type": "code",
      "source": [
        "# The beta vector contains the estimated coefficients [intercept, slope]\n",
        "estimated_intercept, estimated_slope = beta\n",
        "print()\n",
        "print(f\"Estimated Intercept: {estimated_intercept}\")\n",
        "print(f\"Estimated Slope: {estimated_slope}\")"
      ],
      "metadata": {
        "id": "iNiTozsEXBwM"
      },
      "execution_count": 10,
      "outputs": []
    }
  ]
}